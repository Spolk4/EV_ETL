{
 "cells": [
  {
   "cell_type": "code",
   "execution_count": 1,
   "metadata": {},
   "outputs": [],
   "source": [
    "#dependencies\n",
    "import pandas as pd\n",
    "from sqlalchemy import create_engine"
   ]
  },
  {
   "cell_type": "code",
   "execution_count": 2,
   "metadata": {},
   "outputs": [],
   "source": [
    "# store filepath in a variable\n",
    "pev_path = \"./pev_sales.xlsx\"\n",
    "pev_df = pd.io.excel.read_excel(pev_path,header =2, usecols = 'B:J', skipfooter=11)"
   ]
  },
  {
   "cell_type": "code",
   "execution_count": 3,
   "metadata": {},
   "outputs": [],
   "source": [
    "# Reformatting the df using .melt \n",
    "pdf = pev_df.melt(id_vars=['Vehicle', 'Type'], var_name = 'Year', value_name = 'Sales')"
   ]
  },
  {
   "cell_type": "code",
   "execution_count": 4,
   "metadata": {},
   "outputs": [],
   "source": [
    "# store filepath in a variable\n",
    "hev_path = \"./hev_sales.xlsx\"\n",
    "hev_df = pd.io.excel.read_excel(hev_path, header=2, usecols = 'B:BP', skipfooter=19) "
   ]
  },
  {
   "cell_type": "code",
   "execution_count": 5,
   "metadata": {},
   "outputs": [
    {
     "data": {
      "text/html": [
       "<div>\n",
       "<style scoped>\n",
       "    .dataframe tbody tr th:only-of-type {\n",
       "        vertical-align: middle;\n",
       "    }\n",
       "\n",
       "    .dataframe tbody tr th {\n",
       "        vertical-align: top;\n",
       "    }\n",
       "\n",
       "    .dataframe thead th {\n",
       "        text-align: right;\n",
       "    }\n",
       "</style>\n",
       "<table border=\"1\" class=\"dataframe\">\n",
       "  <thead>\n",
       "    <tr style=\"text-align: right;\">\n",
       "      <th></th>\n",
       "      <th>Year</th>\n",
       "      <th>Vehicle</th>\n",
       "      <th>Sales</th>\n",
       "    </tr>\n",
       "  </thead>\n",
       "  <tbody>\n",
       "    <tr>\n",
       "      <th>0</th>\n",
       "      <td>1999</td>\n",
       "      <td>Volkswagen Touareg Hybrid</td>\n",
       "      <td>NaN</td>\n",
       "    </tr>\n",
       "    <tr>\n",
       "      <th>1</th>\n",
       "      <td>2000</td>\n",
       "      <td>Volkswagen Touareg Hybrid</td>\n",
       "      <td>NaN</td>\n",
       "    </tr>\n",
       "    <tr>\n",
       "      <th>2</th>\n",
       "      <td>2001</td>\n",
       "      <td>Volkswagen Touareg Hybrid</td>\n",
       "      <td>NaN</td>\n",
       "    </tr>\n",
       "    <tr>\n",
       "      <th>3</th>\n",
       "      <td>2002</td>\n",
       "      <td>Volkswagen Touareg Hybrid</td>\n",
       "      <td>NaN</td>\n",
       "    </tr>\n",
       "    <tr>\n",
       "      <th>4</th>\n",
       "      <td>2003</td>\n",
       "      <td>Volkswagen Touareg Hybrid</td>\n",
       "      <td>NaN</td>\n",
       "    </tr>\n",
       "  </tbody>\n",
       "</table>\n",
       "</div>"
      ],
      "text/plain": [
       "   Year                    Vehicle  Sales\n",
       "0  1999  Volkswagen Touareg Hybrid    NaN\n",
       "1  2000  Volkswagen Touareg Hybrid    NaN\n",
       "2  2001  Volkswagen Touareg Hybrid    NaN\n",
       "3  2002  Volkswagen Touareg Hybrid    NaN\n",
       "4  2003  Volkswagen Touareg Hybrid    NaN"
      ]
     },
     "execution_count": 5,
     "metadata": {},
     "output_type": "execute_result"
    }
   ],
   "source": [
    "#Reformat df by using .melt function\n",
    "hdf = hev_df.melt(id_vars=['Year'], var_name = 'Vehicle', value_name = 'Sales')\n",
    "# type_hdf = hdf['Type']='HEV'\n",
    "# type_hdf.head()\n",
    "hdf.head()"
   ]
  },
  {
   "cell_type": "code",
   "execution_count": 6,
   "metadata": {},
   "outputs": [
    {
     "data": {
      "text/html": [
       "<div>\n",
       "<style scoped>\n",
       "    .dataframe tbody tr th:only-of-type {\n",
       "        vertical-align: middle;\n",
       "    }\n",
       "\n",
       "    .dataframe tbody tr th {\n",
       "        vertical-align: top;\n",
       "    }\n",
       "\n",
       "    .dataframe thead th {\n",
       "        text-align: right;\n",
       "    }\n",
       "</style>\n",
       "<table border=\"1\" class=\"dataframe\">\n",
       "  <thead>\n",
       "    <tr style=\"text-align: right;\">\n",
       "      <th></th>\n",
       "      <th>Vehicle</th>\n",
       "      <th>Type</th>\n",
       "      <th>Year</th>\n",
       "      <th>Sales</th>\n",
       "      <th>Make</th>\n",
       "      <th>Model</th>\n",
       "    </tr>\n",
       "  </thead>\n",
       "  <tbody>\n",
       "    <tr>\n",
       "      <th>0</th>\n",
       "      <td>Audi A3 Plug In</td>\n",
       "      <td>PHEV</td>\n",
       "      <td>2011</td>\n",
       "      <td>NaN</td>\n",
       "      <td>Audi</td>\n",
       "      <td>A3 Plug In</td>\n",
       "    </tr>\n",
       "    <tr>\n",
       "      <th>1</th>\n",
       "      <td>BMW Active E</td>\n",
       "      <td>EV</td>\n",
       "      <td>2011</td>\n",
       "      <td>NaN</td>\n",
       "      <td>BMW</td>\n",
       "      <td>Active E</td>\n",
       "    </tr>\n",
       "    <tr>\n",
       "      <th>2</th>\n",
       "      <td>BMW i3</td>\n",
       "      <td>EV</td>\n",
       "      <td>2011</td>\n",
       "      <td>NaN</td>\n",
       "      <td>BMW</td>\n",
       "      <td>i3</td>\n",
       "    </tr>\n",
       "    <tr>\n",
       "      <th>3</th>\n",
       "      <td>BMW i8</td>\n",
       "      <td>PHEV</td>\n",
       "      <td>2011</td>\n",
       "      <td>NaN</td>\n",
       "      <td>BMW</td>\n",
       "      <td>i8</td>\n",
       "    </tr>\n",
       "    <tr>\n",
       "      <th>4</th>\n",
       "      <td>BMW X5</td>\n",
       "      <td>PHEV</td>\n",
       "      <td>2011</td>\n",
       "      <td>NaN</td>\n",
       "      <td>BMW</td>\n",
       "      <td>X5</td>\n",
       "    </tr>\n",
       "  </tbody>\n",
       "</table>\n",
       "</div>"
      ],
      "text/plain": [
       "           Vehicle  Type  Year  Sales  Make       Model\n",
       "0  Audi A3 Plug In  PHEV  2011    NaN  Audi  A3 Plug In\n",
       "1     BMW Active E    EV  2011    NaN   BMW    Active E\n",
       "2           BMW i3    EV  2011    NaN   BMW          i3\n",
       "3           BMW i8  PHEV  2011    NaN   BMW          i8\n",
       "4           BMW X5  PHEV  2011    NaN   BMW          X5"
      ]
     },
     "execution_count": 6,
     "metadata": {},
     "output_type": "execute_result"
    }
   ],
   "source": [
    "# Split the vehicle into make and model\n",
    "new_pdf=pdf[['Make', 'Model']]=pdf.Vehicle.str.split(' ',1,expand=True)\n",
    "pdf['Make'] = new_pdf[0]\n",
    "pdf['Model'] = new_pdf[1]\n",
    "pdf.head()"
   ]
  },
  {
   "cell_type": "code",
   "execution_count": 7,
   "metadata": {},
   "outputs": [],
   "source": [
    "# remove the vehicle column \n",
    "del pdf['Vehicle']"
   ]
  },
  {
   "cell_type": "code",
   "execution_count": 8,
   "metadata": {},
   "outputs": [],
   "source": [
    "# reordering hdf\n",
    "reorg_pdf=pdf[[\"Make\", \"Model\", \"Type\", \"Year\", \"Sales\"]]\n",
    "new_PEV_df = reorg_pdf.dropna().head()"
   ]
  },
  {
   "cell_type": "code",
   "execution_count": 9,
   "metadata": {},
   "outputs": [
    {
     "data": {
      "text/html": [
       "<div>\n",
       "<style scoped>\n",
       "    .dataframe tbody tr th:only-of-type {\n",
       "        vertical-align: middle;\n",
       "    }\n",
       "\n",
       "    .dataframe tbody tr th {\n",
       "        vertical-align: top;\n",
       "    }\n",
       "\n",
       "    .dataframe thead th {\n",
       "        text-align: right;\n",
       "    }\n",
       "</style>\n",
       "<table border=\"1\" class=\"dataframe\">\n",
       "  <thead>\n",
       "    <tr style=\"text-align: right;\">\n",
       "      <th></th>\n",
       "      <th>Year</th>\n",
       "      <th>Vehicle</th>\n",
       "      <th>Sales</th>\n",
       "      <th>Make</th>\n",
       "      <th>Model</th>\n",
       "    </tr>\n",
       "  </thead>\n",
       "  <tbody>\n",
       "    <tr>\n",
       "      <th>0</th>\n",
       "      <td>1999</td>\n",
       "      <td>Volkswagen Touareg Hybrid</td>\n",
       "      <td>NaN</td>\n",
       "      <td>Volkswagen</td>\n",
       "      <td>Touareg Hybrid</td>\n",
       "    </tr>\n",
       "    <tr>\n",
       "      <th>1</th>\n",
       "      <td>2000</td>\n",
       "      <td>Volkswagen Touareg Hybrid</td>\n",
       "      <td>NaN</td>\n",
       "      <td>Volkswagen</td>\n",
       "      <td>Touareg Hybrid</td>\n",
       "    </tr>\n",
       "    <tr>\n",
       "      <th>2</th>\n",
       "      <td>2001</td>\n",
       "      <td>Volkswagen Touareg Hybrid</td>\n",
       "      <td>NaN</td>\n",
       "      <td>Volkswagen</td>\n",
       "      <td>Touareg Hybrid</td>\n",
       "    </tr>\n",
       "    <tr>\n",
       "      <th>3</th>\n",
       "      <td>2002</td>\n",
       "      <td>Volkswagen Touareg Hybrid</td>\n",
       "      <td>NaN</td>\n",
       "      <td>Volkswagen</td>\n",
       "      <td>Touareg Hybrid</td>\n",
       "    </tr>\n",
       "    <tr>\n",
       "      <th>4</th>\n",
       "      <td>2003</td>\n",
       "      <td>Volkswagen Touareg Hybrid</td>\n",
       "      <td>NaN</td>\n",
       "      <td>Volkswagen</td>\n",
       "      <td>Touareg Hybrid</td>\n",
       "    </tr>\n",
       "  </tbody>\n",
       "</table>\n",
       "</div>"
      ],
      "text/plain": [
       "   Year                    Vehicle  Sales        Make           Model\n",
       "0  1999  Volkswagen Touareg Hybrid    NaN  Volkswagen  Touareg Hybrid\n",
       "1  2000  Volkswagen Touareg Hybrid    NaN  Volkswagen  Touareg Hybrid\n",
       "2  2001  Volkswagen Touareg Hybrid    NaN  Volkswagen  Touareg Hybrid\n",
       "3  2002  Volkswagen Touareg Hybrid    NaN  Volkswagen  Touareg Hybrid\n",
       "4  2003  Volkswagen Touareg Hybrid    NaN  Volkswagen  Touareg Hybrid"
      ]
     },
     "execution_count": 9,
     "metadata": {},
     "output_type": "execute_result"
    }
   ],
   "source": [
    "# Split the vehicle into make and model\n",
    "new_hdf=hdf[['Make', 'Model']]=hdf.Vehicle.str.split(' ',1,expand=True)\n",
    "new_hdf.head()\n",
    "hdf['Make'] = new_hdf[0]\n",
    "hdf['Model'] = new_hdf[1]\n",
    "hdf.head()"
   ]
  },
  {
   "cell_type": "code",
   "execution_count": 10,
   "metadata": {},
   "outputs": [],
   "source": [
    "#add the Type column in df with value HEV\n",
    "hdf['Type']='HEV'"
   ]
  },
  {
   "cell_type": "code",
   "execution_count": 11,
   "metadata": {},
   "outputs": [],
   "source": [
    "# remove the vehicle column \n",
    "del hdf['Vehicle']"
   ]
  },
  {
   "cell_type": "code",
   "execution_count": 12,
   "metadata": {},
   "outputs": [],
   "source": [
    "#reorganize the data and drop the not a number values from the the sales column\n",
    "reorg_hdf=hdf[['Make','Model', 'Type', 'Year', 'Sales']]\n",
    "cleaned_hdf=reorg_hdf.dropna().head()"
   ]
  },
  {
   "cell_type": "code",
   "execution_count": 13,
   "metadata": {},
   "outputs": [],
   "source": [
    "# find unique values, make label corrections with .replace\n",
    "# reorg_hdf['Make'].unique()\n",
    "# reorg_pdf['Make'].unique()\n",
    "new_HEV_df = cleaned_hdf.replace('Acrua','Acura').replace('Volkswagen','VW')"
   ]
  },
  {
   "cell_type": "code",
   "execution_count": 19,
   "metadata": {
    "scrolled": true
   },
   "outputs": [],
   "source": [
    "#start connection into proseql\n",
    "rds_connection_string = \"postgres:OliverRocks33@!@localhost:5432/EV_db\"\n",
    "engine = create_engine(f'postgresql://{rds_connection_string}')"
   ]
  },
  {
   "cell_type": "code",
   "execution_count": 20,
   "metadata": {},
   "outputs": [],
   "source": [
    "#load the csv converted to Dataframe into sql db\n",
    "new_HEV_df.to_sql(name='new_HEV_df', con=engine, if_exists='append', index=False)\n",
    "new_PEV_df.to_sql(name='new_PEV_df', con=engine, if_exists='append', index=False)"
   ]
  },
  {
   "cell_type": "code",
   "execution_count": null,
   "metadata": {},
   "outputs": [],
   "source": []
  }
 ],
 "metadata": {
  "kernelspec": {
   "display_name": "Python [conda env:PythonData] *",
   "language": "python",
   "name": "conda-env-PythonData-py"
  },
  "language_info": {
   "codemirror_mode": {
    "name": "ipython",
    "version": 3
   },
   "file_extension": ".py",
   "mimetype": "text/x-python",
   "name": "python",
   "nbconvert_exporter": "python",
   "pygments_lexer": "ipython3",
   "version": "3.6.8"
  }
 },
 "nbformat": 4,
 "nbformat_minor": 2
}
